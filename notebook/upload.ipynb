{
 "metadata": {
  "name": "",
  "signature": "sha256:5313fbf536d357588f45eec2f29c6b0800abc71ab6e334040a3a3a3efd6c6049"
 },
 "nbformat": 3,
 "nbformat_minor": 0,
 "worksheets": [
  {
   "cells": [
    {
     "cell_type": "code",
     "collapsed": false,
     "input": [
      "import os\n",
      "import urllib2\n",
      "import flickrapi\n",
      "from scintillate import api\n",
      "from cStringIO import StringIO\n",
      "from poster.encode import multipart_encode\n",
      "from poster.streaminghttp import register_openers"
     ],
     "language": "python",
     "metadata": {},
     "outputs": [],
     "prompt_number": 1
    },
    {
     "cell_type": "code",
     "collapsed": false,
     "input": [
      "flickr = api.Flickr()"
     ],
     "language": "python",
     "metadata": {},
     "outputs": [],
     "prompt_number": 2
    },
    {
     "cell_type": "code",
     "collapsed": false,
     "input": [
      "x = flickr.flickr\n",
      "arguments = {'auth_token': x.token_cache.token, \n",
      "             'api_key': x.api_key,\n",
      "             'title':'title',\n",
      "             'description':'description',\n",
      "             'tags':'tag tag2 \"long tag\"',\n",
      "             'is_public':'0',}\n",
      "kwargs = flickrapi.make_utf8(arguments)\n",
      "\n",
      "\n",
      "\n",
      "\n",
      "\n",
      "body = flickrapi.Multipart()\n",
      "\n",
      "for arg, value in kwargs.iteritems():\n",
      "    part = flickrapi.Part({'name': arg}, value)\n",
      "    body.attach(part)\n",
      "\n",
      "filename = '/Users/ajmendez/Desktop/transparent.gif'\n",
      "filepart = flickrapi.FilePart({'name': 'photo'}, filename, 'image/jpeg')\n",
      "body.attach(filepart)\n",
      "\n",
      "print url\n",
      "\n",
      "# print str(body)\n",
      "# print body.parts\n",
      "# print body.header()\n",
      "\n",
      "# request = urllib2.Request(url)\n",
      "# request.add_data(str(body))\n",
      "\n",
      "# (header, value) = body.header()\n",
      "# request.add_header(header, value)\n",
      "\n",
      "# def callback(percentage, done):\n",
      "#     print '{} {}'.format(percentage, done)\n",
      "\n",
      "# def _callback(percentage, done, seen_header=[False]):\n",
      "#     if seen_header[0]:\n",
      "#         return callback(percentage, done)\n",
      "#     if done:\n",
      "#         seen_header[0] = True\n",
      "\n",
      "        \n",
      "# response = flickrapi.reportinghttp.urlopen(request, __upload_callback)\n",
      "# response.read()"
     ],
     "language": "python",
     "metadata": {},
     "outputs": [
      {
       "output_type": "stream",
       "stream": "stdout",
       "text": [
        "https://api.flickr.com/services/upload/\n"
       ]
      }
     ],
     "prompt_number": 3
    },
    {
     "cell_type": "code",
     "collapsed": false,
     "input": [
      "# kwargs"
     ],
     "language": "python",
     "metadata": {},
     "outputs": [],
     "prompt_number": 64
    },
    {
     "cell_type": "code",
     "collapsed": false,
     "input": [
      "class Progress(object):\n",
      "    def __init__(self):\n",
      "        self._seen = 0.0\n",
      "\n",
      "    def update(self, total, size, name):\n",
      "        self._seen += size\n",
      "        pct = (self._seen / total) * 100.0\n",
      "        if (int(pct)%10) == 0:\n",
      "            print '%s progress: %.2f' % (name, pct)\n",
      "\n",
      "class file_with_callback(file):\n",
      "    def __init__(self, path, mode, callback, *args):\n",
      "        file.__init__(self, path, mode)\n",
      "        self.seek(0, os.SEEK_END)\n",
      "        self._total = self.tell()\n",
      "        self.seek(0)\n",
      "        self._callback = callback\n",
      "        self._args = args\n",
      "\n",
      "    def __len__(self):\n",
      "        return self._total\n",
      "\n",
      "    def read(self, size):\n",
      "        data = file.read(self, size)\n",
      "        self._callback(self._total, len(data), *self._args)\n",
      "        return data\n",
      "\n",
      "# path = 'large_file.txt'\n",
      "# progress = Progress()\n",
      "# stream = file_with_callback(path, 'rb', progress.update, path)"
     ],
     "language": "python",
     "metadata": {},
     "outputs": [],
     "prompt_number": 65
    },
    {
     "cell_type": "code",
     "collapsed": false,
     "input": [
      "register_openers()\n",
      "# f = '/Users/ajmendez/previous_video.mp4'\n",
      "f = '/Users/ajmendez/todays_video.mp4'\n",
      "\n",
      "# fh = open(f, \"rb\")\n",
      "progress = Progress()\n",
      "fh = file_with_callback(f, 'rb',progress.update, os.path.basename(f))\n",
      "\n",
      "body2 = {\"photo\": fh}\n",
      "body2.update(kwargs)\n",
      "datagen, headers = multipart_encode(body2)\n",
      "\n",
      "request = urllib2.Request(url, datagen, headers)"
     ],
     "language": "python",
     "metadata": {},
     "outputs": [],
     "prompt_number": 70
    },
    {
     "cell_type": "code",
     "collapsed": false,
     "input": [
      "def callback(percentage, done):\n",
      "    print '{} {}'.format(percentage, done)\n",
      "\n",
      "def _callback(percentage, done, seen_header=[False]):\n",
      "    if seen_header[0]:\n",
      "        return callback(percentage, done)\n",
      "    if done:\n",
      "        seen_header[0] = True\n",
      "\n",
      "# response = flickrapi.reportinghttp.urlopen(request, _callback)\n",
      "# response.read()"
     ],
     "language": "python",
     "metadata": {},
     "outputs": [],
     "prompt_number": 60
    },
    {
     "cell_type": "code",
     "collapsed": false,
     "input": [
      "print urllib2.urlopen(request).read()"
     ],
     "language": "python",
     "metadata": {},
     "outputs": [
      {
       "output_type": "stream",
       "stream": "stdout",
       "text": [
        "\n",
        "todays_video.mp4 progress: 16.37\n",
        "todays_video.mp4 progress: 16.37\n",
        "todays_video.mp4 progress: 16.37\n",
        "todays_video.mp4 progress: 16.38\n",
        "todays_video.mp4 progress: 16.38\n",
        "todays_video.mp4 progress: 16.38\n",
        "todays_video.mp4 progress: 16.38\n",
        "todays_video.mp4 progress: 16.38\n",
        "todays_video.mp4 progress: 16.38"
       ]
      }
     ]
    },
    {
     "cell_type": "code",
     "collapsed": false,
     "input": [
      "# test_client.py\n",
      "import urllib2\n",
      "\n",
      "# Register the streaming http handlers with urllib2\n",
      "register_openers()\n",
      "\n",
      "# Start the multipart/form-data encoding of the file \"DSC0001.jpg\"\n",
      "# \"image1\" is the name of the parameter, which is normally set\n",
      "# via the \"name\" parameter of the HTML <input> tag.\n",
      "\n",
      "# headers contains the necessary Content-Type and Content-Length\n",
      "# datagen is a generator object that yields the encoded parameters\n",
      "datagen, headers = multipart_encode({\"image1\": open(\"DSC0001.jpg\", \"rb\")})\n",
      "\n",
      "# Create the Request object\n",
      "request = urllib2.Request(\"http://localhost:5000/upload_image\", datagen, headers)\n",
      "# Actually do the request, and get the response\n",
      "print urllib2.urlopen(request).read()"
     ],
     "language": "python",
     "metadata": {},
     "outputs": []
    }
   ],
   "metadata": {}
  }
 ]
}