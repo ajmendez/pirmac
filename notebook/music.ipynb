{
 "metadata": {
  "name": "",
  "signature": "sha256:a3a2988154a5869af797657650452198bf993ed5c6b47a52b3722f73d7617cb9"
 },
 "nbformat": 3,
 "nbformat_minor": 0,
 "worksheets": [
  {
   "cells": [
    {
     "cell_type": "code",
     "collapsed": false,
     "input": [
      "import eyed3\n",
      "import audioread\n",
      "import hashlib"
     ],
     "language": "python",
     "metadata": {},
     "outputs": [],
     "prompt_number": 31
    },
    {
     "cell_type": "code",
     "collapsed": false,
     "input": [
      "%ls \"/Users/ajmendez/Downloads/_music/Xerxes - Selected Works - J\u00f8rgen Bryde/\"\n"
     ],
     "language": "python",
     "metadata": {},
     "outputs": [
      {
       "output_type": "stream",
       "stream": "stdout",
       "text": [
        "Kristian Linna - Selected Works - J\u00f8rgen Bryde - 01 Frozen.mp3\r\n",
        "Xerxes - Selected Works - J\u00f8rgen Bryde - 02 Eventyr (Intro).mp3\r\n",
        "Xerxes - Selected Works - J\u00f8rgen Bryde - 03 J\u00f8rgens Theme.mp3\r\n",
        "Xerxes - Selected Works - J\u00f8rgen Bryde - 04 Blessed.mp3\r\n",
        "Xerxes - Selected Works - J\u00f8rgen Bryde - 05 The Day We Met.mp3\r\n",
        "Xerxes - Selected Works - J\u00f8rgen Bryde - 06 Picture of Her.mp3\r\n",
        "Xerxes - Selected Works - J\u00f8rgen Bryde - 07 Eventyr (Main).mp3\r\n",
        "Xerxes - Selected Works - J\u00f8rgen Bryde - 08 X-Rayed.mp3\r\n",
        "Xerxes - Selected Works - J\u00f8rgen Bryde - 09 Deja Vu.mp3\r\n",
        "Xerxes - Selected Works - J\u00f8rgen Bryde - 10 Siberia.mp3\r\n",
        "Xerxes - Selected Works - J\u00f8rgen Bryde - 11 Upperhand.mp3\r\n",
        "Xerxes - Selected Works - J\u00f8rgen Bryde - 12 Modulating Gaia.mp3\r\n",
        "cover.jpg\r\n"
       ]
      }
     ],
     "prompt_number": 4
    },
    {
     "cell_type": "code",
     "collapsed": false,
     "input": [
      "filename = \"/Users/ajmendez/Downloads/_music/Xerxes - Selected Works - J\u00f8rgen Bryde/Kristian Linna - Selected Works - J\u00f8rgen Bryde - 01 Frozen.mp3\"\n",
      "audiofile = eyed3.load(filename)\n",
      "print audiofile.tag.artist\n",
      "print audiofile.tag.title\n"
     ],
     "language": "python",
     "metadata": {},
     "outputs": [
      {
       "output_type": "stream",
       "stream": "stdout",
       "text": [
        "Kristian Linna\n",
        "Frozen\n"
       ]
      }
     ],
     "prompt_number": 15
    },
    {
     "cell_type": "code",
     "collapsed": false,
     "input": [
      "audio = audioread.audio_open(filename)\n",
      "print audio.channels, audio.samplerate, audio.duration"
     ],
     "language": "python",
     "metadata": {},
     "outputs": [
      {
       "output_type": "stream",
       "stream": "stdout",
       "text": [
        "2 44100 280.5\n"
       ]
      }
     ],
     "prompt_number": 17
    },
    {
     "cell_type": "code",
     "collapsed": false,
     "input": [
      "with open('/Users/ajmendez/tmp/music/output/readme.txt', 'r') as f:\n",
      "    tmp = f.readlines()\n",
      "    \n",
      "    for line in tmp:\n",
      "        print line.split(' :: ')[0]\n",
      "# with open('/Users/ajmendez/tmp/music/output/test.txt', 'w') as f:\n",
      "#     f.write('test')"
     ],
     "language": "python",
     "metadata": {},
     "outputs": [
      {
       "output_type": "stream",
       "stream": "stdout",
       "text": [
        "trackset_27b41bff4297151201a2758e2e37ad850676ac11.mp3\n",
        "trackset_3e0ce634f24081fbe322ccc1e09013de911153a0.mp3\n"
       ]
      }
     ],
     "prompt_number": 43
    },
    {
     "cell_type": "code",
     "collapsed": false,
     "input": [
      "key = u'Xerxes - Eventyr (Intro) ;; Xerxes - J\\xf8rgens Theme'\n",
      "hashlib.sha1(key.encode(\"utf8\")).hexdigest()"
     ],
     "language": "python",
     "metadata": {},
     "outputs": [
      {
       "metadata": {},
       "output_type": "pyout",
       "prompt_number": 39,
       "text": [
        "'aca637b2760bf106bd47b9fd921d803d05780d2f'"
       ]
      }
     ],
     "prompt_number": 39
    }
   ],
   "metadata": {}
  }
 ]
}