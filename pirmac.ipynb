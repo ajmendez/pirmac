{
 "metadata": {
  "name": ""
 },
 "nbformat": 3,
 "nbformat_minor": 0,
 "worksheets": [
  {
   "cells": [
    {
     "cell_type": "code",
     "collapsed": false,
     "input": [
      "import time\n",
      "import picam\n",
      "from datetime import datetime\n",
      "from PIL import Image, ImageChops"
     ],
     "language": "python",
     "metadata": {},
     "outputs": [],
     "prompt_number": 1
    },
    {
     "cell_type": "code",
     "collapsed": false,
     "input": [
      "picam.config.awbMode = picam.MMAL_PARAM_AWBMODE_OFF\n",
      "#picam.config.awbMode = picam.MMAL_PARAM_AWBMODE_INCANDESCENT\n",
      "\n",
      "#picam.config.exposure = picam.MMAL_PARAM_EXPOSUREMODE_OFF\n",
      "picam.config.exposure = picam.MMAL_PARAM_EXPOSUREMODE_VERYLONG\n",
      "\n",
      "picam.config.imageFX = picam.MMAL_PARAM_IMAGEFX_NONE\n",
      "# picam.config.imageFX = picam.MMAL_PARAM_IMAGEFX_SKETCH\n",
      "# picam.config.imageFX = picam.MMAL_PARAM_IMAGEFX_DENOISE\n",
      "\n",
      "\n",
      "#picam.config.shutterSpeed = 2e3         # 0 = auto, otherwise the shutter speed in ms\n",
      "#picam.config.ISO = 100\n",
      "picam.config.shutterSpeed = 0\n",
      "picam.config.ISO = 100\n"
     ],
     "language": "python",
     "metadata": {},
     "outputs": [],
     "prompt_number": 2
    },
    {
     "cell_type": "code",
     "collapsed": false,
     "input": [
      "help(picam.takePhoto)"
     ],
     "language": "python",
     "metadata": {},
     "outputs": [
      {
       "output_type": "stream",
       "stream": "stdout",
       "text": [
        "Help on function takePhoto in module picam:\n",
        "\n",
        "takePhoto()\n",
        "\n"
       ]
      }
     ],
     "prompt_number": "*"
    },
    {
     "cell_type": "code",
     "collapsed": true,
     "input": [
      "def stack(filename='/tmp/test.jpg', n=10):\n",
      "    print 'Frame: ',\n",
      "    for i in range(n):\n",
      "        print i,\n",
      "        im = picam.takePhoto()\n",
      "#         im = im.resize((640,480), Image.ANTIALIAS)\n",
      "#         im = picam.takePhotoWithDetails(640,480, 100) \n",
      "        if i == 0:\n",
      "            out = im\n",
      "        else:\n",
      "#             out = out + im\n",
      "            out = ImageChops.lighter(out, im)\n",
      "#             im = ImageChops.add(out, im)\n",
      "#             im = ImageChops.add(im, im, 0.5)\n",
      "            out = Image.blend(out,im,1/float(i+1))\n",
      "#             out = Image.blend(out,im,0.5)\n",
      "#             out = ImageChops.add(out,im,1)\n",
      "        print np.max(out),    \n",
      "        \n",
      "    out.save(filename)\n",
      "    return out\n",
      "\n",
      "def timelapse(delta=1, n=60*24):\n",
      "    for i in range(n):\n",
      "        filename = datetime.now().strftime('data/snap_%Y.%m.%d_%H.%M.%S.jpg')\n",
      "        print filename\n",
      "        try:\n",
      "            x = stack(filename,40)\n",
      "            time.sleep(60)\n",
      "        except KeyboardInterrupt as e:\n",
      "            print 'Stopped by user'\n",
      "    return x\n",
      "\n",
      "#x = stack()\n",
      "x = timelapse()"
     ],
     "language": "python",
     "metadata": {},
     "outputs": [
      {
       "output_type": "stream",
       "stream": "stdout",
       "text": [
        "data/snap_2014.03.01_01.09.11.jpg\n",
        "Frame:  0 "
       ]
      },
      {
       "output_type": "stream",
       "stream": "stdout",
       "text": [
        "255 1 "
       ]
      }
     ],
     "prompt_number": "*"
    },
    {
     "cell_type": "code",
     "collapsed": false,
     "input": [
      "figure(figsize=(6,6))\n",
      "imshow(x, vmin=0, vmax=np.max(x)*0.5);"
     ],
     "language": "python",
     "metadata": {},
     "outputs": []
    },
    {
     "cell_type": "code",
     "collapsed": false,
     "input": [
      "fig = figure(figsize=(16,6))\n",
      "for i,im in enumerate(x.split(),1):\n",
      "    subplot(1,3,i)\n",
      "#     figure(figsize=(4,4))\n",
      "    im = imshow(im, vmin=0, vmax=np.max(x)*0.5)\n",
      "    if i == 3:\n",
      "        cax = pylab.axes([0.05,0.1,0.1,0.015])\n",
      "        cb = pylab.colorbar(im, cax=cax, orientation='horizontal')\n",
      "        cb.set_ticks([0, np.max(x)*0.25, np.max(x)*0.5])\n",
      "    \n"
     ],
     "language": "python",
     "metadata": {},
     "outputs": []
    },
    {
     "cell_type": "code",
     "collapsed": false,
     "input": [
      "# ((((a+b)/2.0+c)/2.0+d)/2.0+e)/2.0\n",
      "# (((a/2+b/2+c)/2+d)/2+e)/2\n",
      "# ((a/4+b/4+c/2+d)/2+e)/2\n",
      "# (a/8+b/8+c/4+d/2+e)/2\n",
      "# a/16+b/16+c/8+d/4+e/2\n",
      "\n",
      "#((((a+b)/x1+c)/x2+d)/x3+e)/x4\n",
      "#a/x1*x2*x3*x4 + b/x1*x2*x3*x4 + c/x2*x3*x4 + d/x3*x4  + e/x4\n",
      "\n",
      "for i in range(10):\n",
      "    print i, 1.0/(i+1)\n",
      "    "
     ],
     "language": "python",
     "metadata": {},
     "outputs": [
      {
       "output_type": "stream",
       "stream": "stdout",
       "text": [
        "0 1.0\n",
        "1 0.5\n",
        "2 0.333333333333\n",
        "3 0.25\n",
        "4 0.2\n",
        "5 0.166666666667\n",
        "6 0.142857142857\n",
        "7 0.125\n",
        "8 0.111111111111\n",
        "9 0.1\n"
       ]
      }
     ],
     "prompt_number": 56
    },
    {
     "cell_type": "code",
     "collapsed": false,
     "input": [],
     "language": "python",
     "metadata": {},
     "outputs": []
    }
   ],
   "metadata": {}
  }
 ]
}